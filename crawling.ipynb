{
 "cells": [
  {
   "cell_type": "code",
   "execution_count": 12,
   "id": "3b3067ed-cb0e-4f84-a5a8-fdeb3943a856",
   "metadata": {
    "tags": []
   },
   "outputs": [],
   "source": [
    "from googleapiclient.discovery import build\n",
    "from googleapiclient.errors import HttpError\n",
    "from oauth2client.tools import argparser\n",
    "from youtube_transcript_api import YouTubeTranscriptApi\n",
    "from bertopic import BERTopic\n",
    "from sklearn.feature_extraction.text import CountVectorizer\n",
    "from nltk.corpus import stopwords\n",
    "import json"
   ]
  },
  {
   "cell_type": "code",
   "execution_count": 14,
   "id": "d0fc139a-3c04-4c18-9e8c-086c0d4f7036",
   "metadata": {
    "tags": []
   },
   "outputs": [],
   "source": [
    "keys = []"
   ]
  },
  {
   "cell_type": "code",
   "execution_count": 16,
   "id": "6ce2e9f7-3c97-4619-a3aa-5d4b2fd6252f",
   "metadata": {
    "tags": []
   },
   "outputs": [],
   "source": [
    "def build_youtube_search(developer_key):\n",
    "    DEVELOPER_KEY = developer_key\n",
    "    YOUTUBE_API_SERVICE_NAME=\"youtube\"\n",
    "    YOUTUBE_API_VERSION=\"v3\"\n",
    "    return build(YOUTUBE_API_SERVICE_NAME,YOUTUBE_API_VERSION,developerKey=DEVELOPER_KEY)\n",
    "\n",
    "def pagination_test(youtube, query):\n",
    "    search_items = []\n",
    "    video_items = []\n",
    "    INIT_REQ = True\n",
    "    order = \"viewCount\"\n",
    "    while len(search_items) < 1000:\n",
    "        if INIT_REQ:\n",
    "            search_response = youtube.search().list(\n",
    "                q = query,\n",
    "                order = \"relevance\",\n",
    "                part = \"snippet\",\n",
    "                type = \"video\",\n",
    "                videoCaption = \"closedCaption\",\n",
    "                maxResults = 50,\n",
    "                ).execute()\n",
    "            INIT_REQ = False\n",
    "        else:\n",
    "            search_response = youtube.search().list(\n",
    "                q = query,\n",
    "                order = \"relevance\",\n",
    "                part = \"snippet\",\n",
    "                type = \"video\",\n",
    "                videoCaption = \"closedCaption\",\n",
    "                maxResults = 50,\n",
    "                pageToken = next_page_token\n",
    "                ).execute()\n",
    "            \n",
    "        search_items.extend(search_response['items'])\n",
    "        new_results = []\n",
    "        for s in search_items:\n",
    "            if s not in new_results:\n",
    "                new_results.append(s)\n",
    "        search_items = new_results\n",
    "        try:\n",
    "            next_page_token = search_response['nextPageToken']\n",
    "        except KeyError:\n",
    "            INIT_REQ = True\n",
    "            print('Last page. {} items collected.'.format(len(search_items)))\n",
    "            break\n",
    "                    \n",
    "    return search_items, search_response\n",
    "\n",
    "def my_search(api, query, page_token = ''):\n",
    "    if not page_token:\n",
    "        response = api.search().list(\n",
    "            q = query,\n",
    "            order = \"relevance\",\n",
    "            part = \"snippet\",\n",
    "            type = \"video\",\n",
    "            videoCaption = \"closedCaption\",\n",
    "            maxResults = 50,\n",
    "            ).execute()\n",
    "    else:\n",
    "        response = api.search().list(\n",
    "            q = query,\n",
    "            order = \"relevance\",\n",
    "            part = \"snippet\",\n",
    "            type = \"video\",\n",
    "            videoCaption = \"closedCaption\",\n",
    "            maxResults = 50,\n",
    "            pageToken = page_token\n",
    "            ).execute()\n",
    "    return response\n",
    "\n",
    "def get_search_response(youtube, query):\n",
    "    search_items = []\n",
    "    video_items = []\n",
    "    INIT_REQ = True\n",
    "    prev_ids = []\n",
    "    i = 0\n",
    "    while len(search_items) < 1000 and i < 8:\n",
    "        if INIT_REQ:\n",
    "            try:\n",
    "                search_response = my_search(youtube, query)\n",
    "                INIT_REQ = False\n",
    "            except HttpError:\n",
    "                i += 1\n",
    "                if i >= 8:\n",
    "                    break\n",
    "                try:\n",
    "                    youtube = build_youtube_search(keys[i])\n",
    "                    search_response = my_search(youtube, query)\n",
    "                except HttpError:\n",
    "                    break\n",
    "        else:\n",
    "            try:\n",
    "                search_response = my_search(youtube, query, next_page_token)\n",
    "            except HttpError:\n",
    "                i += 1\n",
    "                if i >= 8:\n",
    "                    break\n",
    "                try:\n",
    "                    youtube = build_youtube_search(keys[i])\n",
    "                    search_response = my_search(youtube, query, next_page_token)\n",
    "                except HttpError:\n",
    "                    break\n",
    "                    \n",
    "        search_items.extend(search_response['items'])\n",
    "        \n",
    "        new_results = []\n",
    "        for s in search_items:\n",
    "            if s not in new_results:\n",
    "                new_results.append(s)\n",
    "        search_items = new_results\n",
    "        \n",
    "        video_ids = [i.get('id').get('videoId') for i in search_response['items'] if i['id']['kind'] == 'youtube#video']\n",
    "        if not prev_ids:\n",
    "            prev_ids = video_ids\n",
    "            video_ids_new = video_ids\n",
    "        else:\n",
    "            video_ids_new = [vid for vid in video_ids if vid not in prev_ids]\n",
    "            prev_ids += video_ids_new\n",
    "        \n",
    "        try:\n",
    "            video_items.extend(youtube.videos().list(\n",
    "                part = \"id,contentDetails,statistics\",\n",
    "                id = ','.join(video_ids_new)).execute()['items'])\n",
    "        except HttpError:\n",
    "            i += 1\n",
    "            if i >= 8:\n",
    "                break\n",
    "            try:\n",
    "                youtube = build_youtube_search(keys[i])\n",
    "                video_items.extend(youtube.videos().list(\n",
    "                    part = \"id,contentDetails,statistics\",\n",
    "                    id = ','.join(video_ids_new)).execute()['items'])\n",
    "            except HttpError:\n",
    "                break\n",
    "            \n",
    "        try:\n",
    "            next_page_token = search_response['nextPageToken']\n",
    "        except KeyError:\n",
    "            INIT_REQ = True\n",
    "            print('Last page. {} items collected.'.format(len(search_items)))\n",
    "    \n",
    "    print('Collecting complete. {} items collected.'.format(len(search_items)))\n",
    "                    \n",
    "    return search_items, video_items\n",
    "\n",
    "def get_video_info(search_items, video_items):\n",
    "    result_json = {}\n",
    "    idx = 0\n",
    "    for item in search_items:\n",
    "        if item['id']['kind'] == 'youtube#video':\n",
    "            vid = item['id']['videoId']\n",
    "            vitems = [item for item in video_items if item['id'] == vid]\n",
    "            if vitems:\n",
    "                vitem = vitems[0]\n",
    "            else:\n",
    "                continue\n",
    "            if vitem['contentDetails']['caption']:\n",
    "                captions = get_captions(item['id']['videoId'])\n",
    "            if captions:\n",
    "                result_json[idx] = info_to_dict(item['id']['videoId'], item['snippet']['title'], item['snippet']['description'], vitem['statistics']['viewCount'], captions)\n",
    "                idx += 1\n",
    "    return result_json\n",
    "\n",
    "def info_to_dict(videoId, title, description, viewCount, captions):\n",
    "    result = {\n",
    "        \"videoId\": videoId,\n",
    "        \"title\": title,\n",
    "        \"description\": description,\n",
    "        \"viewCount\": viewCount,\n",
    "        \"captions\": captions\n",
    "    }\n",
    "    return result\n",
    "\n",
    "def get_captions(vid):\n",
    "    try:\n",
    "        transcript_list = YouTubeTranscriptApi.list_transcripts(vid)\n",
    "    except:\n",
    "        return ''\n",
    "\n",
    "    for transcript in transcript_list:\n",
    "        if transcript.language_code == 'en':\n",
    "            try:\n",
    "                caption_script = ' '.join([t.get('text') for t in transcript.fetch()])\n",
    "            except Exception as e:\n",
    "                print(e)\n",
    "                return ''\n",
    "            continue\n",
    "        if transcript.is_translatable:\n",
    "            try:\n",
    "                caption_script = ' '.join([t.get('text') for t in transcript.translate('en').fetch()])\n",
    "            except Exception as e:\n",
    "                print(e)\n",
    "                return ''\n",
    "        \n",
    "    return caption_script"
   ]
  },
  {
   "cell_type": "code",
   "execution_count": null,
   "id": "2a795486-a200-4502-9201-ebe2f02348b6",
   "metadata": {},
   "outputs": [],
   "source": [
    "def build_youtube_search(developer_key):\n",
    "    DEVELOPER_KEY = developer_key\n",
    "    YOUTUBE_API_SERVICE_NAME=\"youtube\"\n",
    "    YOUTUBE_API_VERSION=\"v3\"\n",
    "    return build(YOUTUBE_API_SERVICE_NAME,YOUTUBE_API_VERSION,developerKey=DEVELOPER_KEY)\n",
    "\n",
    "def my_search(api, query, page_token = ''):\n",
    "    if not page_token:\n",
    "        response = api.search().list(\n",
    "            q = query,\n",
    "            order = \"relevance\",\n",
    "            part = \"snippet\",\n",
    "            type = \"video\",\n",
    "            videoCaption = \"closedCaption\",\n",
    "            maxResults = 50,\n",
    "            ).execute()\n",
    "    else:\n",
    "        response = api.search().list(\n",
    "            q = query,\n",
    "            order = \"relevance\",\n",
    "            part = \"snippet\",\n",
    "            type = \"video\",\n",
    "            videoCaption = \"closedCaption\",\n",
    "            maxResults = 50,\n",
    "            pageToken = page_token\n",
    "            ).execute()\n",
    "    return response\n",
    "\n",
    "def get_search_response(youtube, query):\n",
    "    search_items = []\n",
    "    video_items = []\n",
    "    INIT_REQ = True\n",
    "    prev_ids = []\n",
    "    i = 0\n",
    "    while len(search_items) < 1000 and i < 8:\n",
    "        if INIT_REQ:\n",
    "            try:\n",
    "                search_response = my_search(youtube, query)\n",
    "                INIT_REQ = False\n",
    "            except HttpError:\n",
    "                i += 1\n",
    "                if i >= 8:\n",
    "                    break\n",
    "                try:\n",
    "                    youtube = build_youtube_search(keys[i])\n",
    "                    search_response = my_search(youtube, query)\n",
    "                except HttpError:\n",
    "                    break\n",
    "        else:\n",
    "            try:\n",
    "                search_response = my_search(youtube, query, next_page_token)\n",
    "            except HttpError:\n",
    "                i += 1\n",
    "                if i >= 8:\n",
    "                    break\n",
    "                try:\n",
    "                    youtube = build_youtube_search(keys[i])\n",
    "                    search_response = my_search(youtube, query, next_page_token)\n",
    "                except HttpError:\n",
    "                    break\n",
    "                    \n",
    "        search_items.extend(search_response['items'])\n",
    "        \n",
    "        new_results = []\n",
    "        for s in search_items:\n",
    "            if s not in new_results:\n",
    "                new_results.append(s)\n",
    "        search_items = new_results\n",
    "        \n",
    "        video_ids = [i.get('id').get('videoId') for i in search_response['items'] if i['id']['kind'] == 'youtube#video']\n",
    "        if not prev_ids:\n",
    "            prev_ids = video_ids\n",
    "            video_ids_new = video_ids\n",
    "        else:\n",
    "            video_ids_new = [vid for vid in video_ids if vid not in prev_ids]\n",
    "            prev_ids += video_ids_new\n",
    "        \n",
    "        try:\n",
    "            video_items.extend(youtube.videos().list(\n",
    "                part = \"id,contentDetails,statistics\",\n",
    "                id = ','.join(video_ids_new)).execute()['items'])\n",
    "        except HttpError:\n",
    "            i += 1\n",
    "            if i >= 8:\n",
    "                break\n",
    "            try:\n",
    "                youtube = build_youtube_search(keys[i])\n",
    "                video_items.extend(youtube.videos().list(\n",
    "                    part = \"id,contentDetails,statistics\",\n",
    "                    id = ','.join(video_ids_new)).execute()['items'])\n",
    "            except HttpError:\n",
    "                break\n",
    "            \n",
    "        try:\n",
    "            next_page_token = search_response['nextPageToken']\n",
    "        except KeyError:\n",
    "            INIT_REQ = True\n",
    "            print('Last page. {} items collected.'.format(len(search_items)))\n",
    "    \n",
    "    print('Collecting complete. {} items collected.'.format(len(search_items)))\n",
    "                    \n",
    "    return search_items, video_items\n",
    "\n",
    "def get_video_info(search_items, video_items):\n",
    "    result_json = {}\n",
    "    idx = 0\n",
    "    for item in search_items:\n",
    "        if item['id']['kind'] == 'youtube#video':\n",
    "            vid = item['id']['videoId']\n",
    "            vitems = [item for item in video_items if item['id'] == vid]\n",
    "            if vitems:\n",
    "                vitem = vitems[0]\n",
    "            else:\n",
    "                continue\n",
    "            if vitem['contentDetails']['caption']:\n",
    "                captions = get_captions(item['id']['videoId'])\n",
    "            if captions:\n",
    "                result_json[idx] = info_to_dict(item['id']['videoId'], item['snippet']['title'], item['snippet']['description'], vitem['statistics']['viewCount'], captions)\n",
    "                idx += 1\n",
    "    return result_json\n",
    "\n",
    "def info_to_dict(videoId, title, description, viewCount, captions):\n",
    "    result = {\n",
    "        \"videoId\": videoId,\n",
    "        \"title\": title,\n",
    "        \"description\": description,\n",
    "        \"viewCount\": viewCount,\n",
    "        \"captions\": captions\n",
    "    }\n",
    "    return result\n",
    "\n",
    "def get_captions(vid):\n",
    "    try:\n",
    "        transcript_list = YouTubeTranscriptApi.list_transcripts(vid)\n",
    "    except:\n",
    "        return ''\n",
    "\n",
    "    for transcript in transcript_list:\n",
    "        if transcript.language_code == 'en':\n",
    "            try:\n",
    "                caption_script = ' '.join([t.get('text') for t in transcript.fetch()])\n",
    "            except Exception as e:\n",
    "                print(e)\n",
    "                return ''\n",
    "            continue\n",
    "        if transcript.is_translatable:\n",
    "            try:\n",
    "                caption_script = ' '.join([t.get('text') for t in transcript.translate('en').fetch()])\n",
    "            except Exception as e:\n",
    "                print(e)\n",
    "                return ''\n",
    "        \n",
    "    return caption_script"
   ]
  },
  {
   "cell_type": "code",
   "execution_count": 59,
   "id": "c6495158-b580-4c26-9142-f0b11b719868",
   "metadata": {
    "tags": []
   },
   "outputs": [
    {
     "data": {
      "text/plain": [
       "1005"
      ]
     },
     "execution_count": 59,
     "metadata": {},
     "output_type": "execute_result"
    }
   ],
   "source": [
    "len(searches)"
   ]
  },
  {
   "cell_type": "code",
   "execution_count": 60,
   "id": "d582d6c2-8b6b-4afe-9dd4-8eeaf10c2a12",
   "metadata": {
    "tags": []
   },
   "outputs": [
    {
     "data": {
      "text/plain": [
       "633"
      ]
     },
     "execution_count": 60,
     "metadata": {},
     "output_type": "execute_result"
    }
   ],
   "source": [
    "unique_r = []\n",
    "for s in searches:\n",
    "    if s not in unique_r:\n",
    "        unique_r.append(s)\n",
    "len(unique_r)"
   ]
  },
  {
   "cell_type": "code",
   "execution_count": 29,
   "id": "e1c8cb53-7ac3-4efe-b840-2d8dbe34d92f",
   "metadata": {
    "tags": []
   },
   "outputs": [
    {
     "name": "stdout",
     "output_type": "stream",
     "text": [
      "Last page. 588 items collected.\n"
     ]
    }
   ],
   "source": [
    "youtube_api = build_youtube_search(youtube_api_key)\n",
    "searches, responses = pagination_test(youtube_api, 'apple iphone 15')"
   ]
  },
  {
   "cell_type": "code",
   "execution_count": 37,
   "id": "19c020d1-c199-431a-85f9-bf9565f78381",
   "metadata": {
    "tags": []
   },
   "outputs": [
    {
     "name": "stdout",
     "output_type": "stream",
     "text": [
      "Last page. 537 items collected.\n",
      "Last page. 605 items collected.\n",
      "Last page. 623 items collected.\n",
      "Last page. 635 items collected.\n",
      "Last page. 637 items collected.\n",
      "Last page. 638 items collected.\n",
      "Last page. 642 items collected.\n",
      "Last page. 647 items collected.\n",
      "Last page. 648 items collected.\n",
      "Last page. 650 items collected.\n",
      "Last page. 654 items collected.\n",
      "Last page. 654 items collected.\n",
      "Last page. 655 items collected.\n",
      "Last page. 655 items collected.\n",
      "Last page. 655 items collected.\n",
      "Last page. 656 items collected.\n",
      "Last page. 659 items collected.\n",
      "Last page. 660 items collected.\n",
      "Last page. 662 items collected.\n",
      "Last page. 664 items collected.\n",
      "Last page. 664 items collected.\n",
      "Last page. 666 items collected.\n",
      "Last page. 666 items collected.\n",
      "Last page. 666 items collected.\n",
      "Last page. 666 items collected.\n",
      "Last page. 668 items collected.\n",
      "Last page. 671 items collected.\n",
      "Last page. 677 items collected.\n",
      "Last page. 677 items collected.\n",
      "Last page. 678 items collected.\n",
      "Last page. 679 items collected.\n",
      "Last page. 681 items collected.\n",
      "Last page. 682 items collected.\n",
      "Last page. 685 items collected.\n",
      "Last page. 685 items collected.\n",
      "Last page. 685 items collected.\n",
      "Last page. 685 items collected.\n",
      "Last page. 686 items collected.\n",
      "Last page. 686 items collected.\n",
      "Last page. 686 items collected.\n",
      "Last page. 686 items collected.\n",
      "Last page. 689 items collected.\n",
      "Last page. 689 items collected.\n",
      "Last page. 689 items collected.\n",
      "Last page. 689 items collected.\n",
      "Last page. 689 items collected.\n",
      "Last page. 689 items collected.\n",
      "Last page. 689 items collected.\n",
      "Last page. 689 items collected.\n",
      "Last page. 689 items collected.\n",
      "Last page. 690 items collected.\n",
      "Last page. 690 items collected.\n",
      "Last page. 691 items collected.\n",
      "Last page. 692 items collected.\n",
      "Last page. 692 items collected.\n",
      "Last page. 694 items collected.\n",
      "Last page. 694 items collected.\n",
      "Last page. 694 items collected.\n",
      "Last page. 694 items collected.\n",
      "Last page. 694 items collected.\n",
      "Last page. 695 items collected.\n",
      "Last page. 695 items collected.\n",
      "Last page. 696 items collected.\n",
      "Last page. 697 items collected.\n",
      "Last page. 697 items collected.\n",
      "Last page. 697 items collected.\n",
      "Collecting complete. 697 items collected.\n"
     ]
    }
   ],
   "source": [
    "youtube_api = build_youtube_search(keys[0])\n",
    "searches, details = get_search_response(youtube_api, 'apple iphone 15')"
   ]
  },
  {
   "cell_type": "code",
   "execution_count": 40,
   "id": "a21b5b78-5d78-4469-9046-df48235282ae",
   "metadata": {
    "tags": []
   },
   "outputs": [],
   "source": [
    "videos = get_video_info(searches, details)"
   ]
  },
  {
   "cell_type": "code",
   "execution_count": 41,
   "id": "9bf3ca7e-8141-4fdb-8a6e-b61c399c68b7",
   "metadata": {
    "tags": []
   },
   "outputs": [
    {
     "data": {
      "text/plain": [
       "{'videoId': 'xqyUdNxWazA',\n",
       " 'title': 'Introducing iPhone 15 Pro | Apple',\n",
       " 'description': 'The new iPhone 15 Pro and iPhone 15 Pro Max are ready for action. Built with aerospace-grade titanium for our lightest, most ...',\n",
       " 'viewCount': '34578451',\n",
       " 'captions': \"[Music] the titanium iPhone 15 Pro built with an aerospace grade material a new level of mobile gaming power and a camera that can literally shoot a blockbuster film wait what a titanium gaming Powerhouse movie camera phone is that even a thing yes it is definitely a thing titanium the same material used in spacecraft design makes iPhone 15 Pro and iPhone 15 Pro Max are lightest Pro Models ever titanium's unique properties give it one of the highest strength to weight ratios of any metal which basically means it's light enough to get up into space and strong enough to make it all the way back to Earth oops the new design comes in four Pro finishes and now includes a USBC connector with super fast transfer speeds and there's a customizable action button for quicker access to your favorite feature from opening the camera to activating a shortcut iPhone 15 Pro gets a Major Performance upgrade from the A7 Pro chip with a new 6 core GPU and a faster neural engine it becomes a ridiculously powerful Mobile gaming machine enabling higher quality graphics and Rich immersive game worlds never seen before on a [Music] smartphone wao these Graphics bring out every beautiful disgusting detail it's truly horrifying it's a new chapter in performance for iPhone and a new era of mobile gaming for the world for photography the new Pro camera system pushes the limits of what you can capture with a smartphone it's like having Seven Pro lenses at the ready ranging from 13 mm focal length on the ultra wide camera to 120 mm on the new 5x telephoto camera on iPhone 15 Pro Max tell us to take four steps to the left please the pro Max gets iPhone's longest optical zoom ever using a first ofit kind tetr prism design it's like having a huge telephoto lens but it's just in there and the more ADV Advanced 48 map main camera brings super high resolution to photos which can now be turned into a portrait after you've shot with an adjustable Focus point for an allnew level of control that's bitter and when it comes to film making it's now possible to record directly to an external drive enabling iPhone 15 Pro to shoot in prores 4k at 60 frames per second action so the camera captures every detail of this with up to 20 times faster transfers enabled by USB 3 and support for pro formats the workflow between shooting and post- production is massively improved so I can take that footage and do this and this and voila Cinema a little less magenta she's right whether big movies or everyday videos professional level film making is in the palm of your hand so yes a movie making high-res shot taking gaming Powerhouse built with Aerospace grade titanium iPhone 15 Pro is the most powerful iPhone ever made boom\"}"
      ]
     },
     "execution_count": 41,
     "metadata": {},
     "output_type": "execute_result"
    }
   ],
   "source": [
    "videos[0]"
   ]
  },
  {
   "cell_type": "code",
   "execution_count": 42,
   "id": "4528a03a-0e71-4ef2-a90b-f586e1a36775",
   "metadata": {
    "tags": []
   },
   "outputs": [],
   "source": [
    "with open('videos_iphone2.json', 'w', encoding='utf-8') as file:\n",
    "    json.dump(videos, file, indent=\"\\t\")\n",
    "    \n",
    "with open('videos_iphone2.json', 'r') as file:\n",
    "    data = json.load(file)"
   ]
  },
  {
   "cell_type": "code",
   "execution_count": 45,
   "id": "129f8a41-430b-400a-b05d-ffb1b34bb66f",
   "metadata": {
    "tags": []
   },
   "outputs": [
    {
     "data": {
      "text/plain": [
       "{'videoId': 'xqyUdNxWazA',\n",
       " 'title': 'Introducing iPhone 15 Pro | Apple',\n",
       " 'description': 'The new iPhone 15 Pro and iPhone 15 Pro Max are ready for action. Built with aerospace-grade titanium for our lightest, most ...',\n",
       " 'viewCount': '34578451',\n",
       " 'captions': \"[Music] the titanium iPhone 15 Pro built with an aerospace grade material a new level of mobile gaming power and a camera that can literally shoot a blockbuster film wait what a titanium gaming Powerhouse movie camera phone is that even a thing yes it is definitely a thing titanium the same material used in spacecraft design makes iPhone 15 Pro and iPhone 15 Pro Max are lightest Pro Models ever titanium's unique properties give it one of the highest strength to weight ratios of any metal which basically means it's light enough to get up into space and strong enough to make it all the way back to Earth oops the new design comes in four Pro finishes and now includes a USBC connector with super fast transfer speeds and there's a customizable action button for quicker access to your favorite feature from opening the camera to activating a shortcut iPhone 15 Pro gets a Major Performance upgrade from the A7 Pro chip with a new 6 core GPU and a faster neural engine it becomes a ridiculously powerful Mobile gaming machine enabling higher quality graphics and Rich immersive game worlds never seen before on a [Music] smartphone wao these Graphics bring out every beautiful disgusting detail it's truly horrifying it's a new chapter in performance for iPhone and a new era of mobile gaming for the world for photography the new Pro camera system pushes the limits of what you can capture with a smartphone it's like having Seven Pro lenses at the ready ranging from 13 mm focal length on the ultra wide camera to 120 mm on the new 5x telephoto camera on iPhone 15 Pro Max tell us to take four steps to the left please the pro Max gets iPhone's longest optical zoom ever using a first ofit kind tetr prism design it's like having a huge telephoto lens but it's just in there and the more ADV Advanced 48 map main camera brings super high resolution to photos which can now be turned into a portrait after you've shot with an adjustable Focus point for an allnew level of control that's bitter and when it comes to film making it's now possible to record directly to an external drive enabling iPhone 15 Pro to shoot in prores 4k at 60 frames per second action so the camera captures every detail of this with up to 20 times faster transfers enabled by USB 3 and support for pro formats the workflow between shooting and post- production is massively improved so I can take that footage and do this and this and voila Cinema a little less magenta she's right whether big movies or everyday videos professional level film making is in the palm of your hand so yes a movie making high-res shot taking gaming Powerhouse built with Aerospace grade titanium iPhone 15 Pro is the most powerful iPhone ever made boom\"}"
      ]
     },
     "execution_count": 45,
     "metadata": {},
     "output_type": "execute_result"
    }
   ],
   "source": [
    "data['0']"
   ]
  },
  {
   "cell_type": "code",
   "execution_count": 18,
   "id": "9368b1a7-81d4-47fe-b492-c6d2a85ea6c0",
   "metadata": {
    "tags": []
   },
   "outputs": [
    {
     "name": "stdout",
     "output_type": "stream",
     "text": [
      "Last page. 528 items collected.\n",
      "Last page. 609 items collected.\n",
      "Last page. 684 items collected.\n",
      "Last page. 713 items collected.\n",
      "Last page. 737 items collected.\n",
      "Last page. 762 items collected.\n",
      "Last page. 773 items collected.\n",
      "Last page. 778 items collected.\n",
      "Last page. 781 items collected.\n",
      "Last page. 788 items collected.\n",
      "Last page. 792 items collected.\n",
      "Last page. 801 items collected.\n",
      "Last page. 805 items collected.\n",
      "Last page. 807 items collected.\n",
      "Last page. 817 items collected.\n",
      "Last page. 820 items collected.\n",
      "Last page. 823 items collected.\n",
      "Last page. 832 items collected.\n",
      "Last page. 837 items collected.\n",
      "Last page. 841 items collected.\n",
      "Last page. 845 items collected.\n",
      "Last page. 847 items collected.\n",
      "Last page. 855 items collected.\n",
      "Last page. 860 items collected.\n",
      "Last page. 860 items collected.\n",
      "Last page. 863 items collected.\n",
      "Last page. 864 items collected.\n",
      "Last page. 865 items collected.\n",
      "Last page. 867 items collected.\n",
      "Last page. 868 items collected.\n",
      "Last page. 868 items collected.\n",
      "Last page. 868 items collected.\n",
      "Last page. 869 items collected.\n",
      "Last page. 871 items collected.\n",
      "Last page. 873 items collected.\n",
      "Last page. 874 items collected.\n",
      "Last page. 876 items collected.\n",
      "Last page. 876 items collected.\n",
      "Last page. 876 items collected.\n",
      "Last page. 876 items collected.\n",
      "Last page. 879 items collected.\n",
      "Last page. 879 items collected.\n",
      "Last page. 879 items collected.\n",
      "Last page. 881 items collected.\n",
      "Last page. 883 items collected.\n",
      "Last page. 888 items collected.\n",
      "Last page. 888 items collected.\n",
      "Last page. 891 items collected.\n",
      "Last page. 893 items collected.\n",
      "Last page. 893 items collected.\n",
      "Last page. 894 items collected.\n",
      "Last page. 894 items collected.\n",
      "Last page. 894 items collected.\n",
      "Last page. 895 items collected.\n",
      "Last page. 896 items collected.\n",
      "Last page. 898 items collected.\n",
      "Last page. 898 items collected.\n",
      "Last page. 898 items collected.\n",
      "Last page. 898 items collected.\n",
      "Last page. 900 items collected.\n",
      "Last page. 900 items collected.\n",
      "Last page. 900 items collected.\n",
      "Last page. 900 items collected.\n",
      "Last page. 900 items collected.\n",
      "Last page. 905 items collected.\n",
      "Collecting complete. 905 items collected.\n"
     ]
    }
   ],
   "source": [
    "youtube_api = build_youtube_search(keys[0])\n",
    "searches2, details2 = get_search_response(youtube_api, 'samsung galaxy s23')"
   ]
  },
  {
   "cell_type": "code",
   "execution_count": 39,
   "id": "7c0022f7-a72b-4e04-a4ab-36da889af272",
   "metadata": {
    "tags": []
   },
   "outputs": [],
   "source": [
    "import pickle\n",
    "with open('searches.pickle', 'wb') as f:\n",
    "    pickle.dump(searches, f)\n",
    "with open('details.pickle', 'wb') as f2:\n",
    "    pickle.dump(details, f2)"
   ]
  },
  {
   "cell_type": "code",
   "execution_count": 20,
   "id": "a6af514d-bd27-44d3-81c4-2fbdd441db35",
   "metadata": {
    "tags": []
   },
   "outputs": [
    {
     "name": "stdout",
     "output_type": "stream",
     "text": [
      "\n",
      "Could not retrieve a transcript for the video https://www.youtube.com/watch?v=404 Client Error: Not Found for url: https://www.youtube.com/api/timedtext?v=qf98pJzlve4&ei=lUwcZZHnGcGf1d8Pg6OIwAw&caps=asr&opi=112496729&xoaf=5&hl=en&ip=0.0.0.0&ipbits=0&expire=1696378629&sparams=ip,ipbits,expire,v,ei,caps,opi,xoaf&signature=585206292D840758B05E741B6AF20952191085B2.CD213DA95B529F27612B158C95EA89DEE9CC149E&key=yt8&lang=ar&tlang=en! This is most likely caused by:\n",
      "\n",
      "Request to YouTube failed: qf98pJzlve4\n",
      "\n",
      "If you are sure that the described cause is not responsible for this error and that a transcript should be retrievable, please create an issue at https://github.com/jdepoix/youtube-transcript-api/issues. Please add which version of youtube_transcript_api you are using and provide the information needed to replicate the error. Also make sure that there are no open issues which already describe your problem!\n"
     ]
    }
   ],
   "source": [
    "videos2 = get_video_info(searches2, details2)"
   ]
  },
  {
   "cell_type": "code",
   "execution_count": 21,
   "id": "94797733-eaf0-47f8-be2b-3948d862087b",
   "metadata": {
    "tags": []
   },
   "outputs": [
    {
     "data": {
      "text/plain": [
       "901"
      ]
     },
     "execution_count": 21,
     "metadata": {},
     "output_type": "execute_result"
    }
   ],
   "source": [
    "len(videos2)"
   ]
  },
  {
   "cell_type": "code",
   "execution_count": 22,
   "id": "15af8d5d-7990-48a9-9636-bfec24fbdcc9",
   "metadata": {
    "tags": []
   },
   "outputs": [
    {
     "data": {
      "text/plain": [
       "{'videoId': 'BSYsXVFzmKA',\n",
       " 'title': 'Galaxy S23 Ultra: Official Introduction Film | Samsung',\n",
       " 'description': \"What's new? The new Galaxy S23 Ultra. Share the epic with our most powerful processor yet, a pro-grade camera that boasts epic ...\",\n",
       " 'viewCount': '24328894',\n",
       " 'captions': \"hi! Nothing bad, right? what's the matter? braided!  Galaxy S23 Ultra. Good. This cannot be expressed simply as ‘good.’ First, the\\ndisplay color and contrast are automatically adjusted to match the content you are watching or the surrounding environment. It’s a function called ‘Vision Booster’. Oh really? Now, look! and…  ! Can you drive this? look!  Snapdragon 8 2nd generation for Galaxy! Let's increase GPU, CPU, and NPU. It has the most powerful processor in the Galaxy. Stop, stop, stop! and…  !  I can't stop! This processor is efficient and can keep going. for a moment…  Are we in the water now? fountain!  Concentrate!  The Galaxy S23 Ultra is a product that takes the earth into consideration.  It consists of at least 20% recycled ocean plastic, an average of 22% recycled glass and at least 80% recycled PET film. Is it cool? This\\nis the perfect space for astrophotography with Expert RAW. Expert…  what? wait for a sec! Oh, is that a cool pen? This is an S Pen.  It's a powerful pen, so you\\ncan fine-tune colors, curves, exposure, etc. Let's take a selfie. here?  now? huh.  There is nytography.  The AI \\u200b\\u200bobject recognition engine recognizes details such as skin, eyebrows, and\\nhair. Send me that picture! Thank you for sending it! Where's your sled?  I do not need.  It's more fun to photograph you with nightography!  The Galaxy S23 Ultra\\n features a twice-larger OIS and improved AI for more stable night photography.  Did you film it yourself? Look at the incredible detail at 200 megapixels!  I can stretch, crop, and resize it as I want\\n. Where are you taking me now? here! Absolutely amazing! Hey, everything's going well, right? You should check this out.\"}"
      ]
     },
     "execution_count": 22,
     "metadata": {},
     "output_type": "execute_result"
    }
   ],
   "source": [
    "videos2[0]"
   ]
  },
  {
   "cell_type": "code",
   "execution_count": 24,
   "id": "37cf93b1-055d-4bf4-964f-3c88b102ae71",
   "metadata": {
    "tags": []
   },
   "outputs": [
    {
     "data": {
      "text/plain": [
       "{'videoId': 'IKmzHhPb2cI',\n",
       " 'title': 'Samsung Galaxy S23 Ultra - THIS IS AWESOME',\n",
       " 'description': 'Samsung Galaxy S23 Ultra will see some significant upgrades in camera, performance, and battery life. But the Galaxy S23 Ultra ...',\n",
       " 'viewCount': '115156',\n",
       " 'captions': \"all right what's up guys Sal here so we've been talking about how the Galaxy s23 Ultra will offer some pretty significant upgrades in camera performance and even in battery life these three alone make the s23 ultra a substantial upgrade over its predecessor but you see the phone is not just about the camera and performance there are other important elements to it as well that people often Overlook when making a purchasing decision and one of those is the speaker quality most of us have phones in our pockets and use them for almost everything such as watching movies playing games and listening to music while some people may opt to use wireless headphones or Bluetooth speakers to enhance the audio experience the majority of users prefer the convenience of using the phone's built-in speakers so the speaker quality is more important than most people realize and the good news is Samsung has improved the speakers with the Galaxy s23 Ultra especially the lower frequencies such as the bass which should result in a better out of the box multimedia experience and not just that Samsung has also improved the microphone with the s23 ultra this would mean the video that you record will have a better audio quality which is awesome not only that your voice would sound much better to the other person on the call and if you use a voice recorder then the quality will now be better so this is great news for audio files and general users alike right now Samsung's foldable the Z4 has the best audio of any phone out there with Trio dual stereo speakers with sound wide loud and clear so it will be interesting to see if the s23l truck can match the audio quality of his bigger brother coming back to the camera Samsung has also improved the autofocus and image stabilization with the s23 ultra the s2012 ultra already has one of the best video stabilization out there so any improvement over that is highly appreciated the autofocus lens on the s23 ultra doesn't have a red dot which made many people believe that Samsung is getting rid of the laser autofocus sensor but that is not the case it will still have laser autofocus however Samsung improved it with better software moving on here the first official renders of the Galaxy s23 these are the official marketing images from Samsung which showed the phone from all angles and surprisingly kinda resembles the iPhone design with those flat looking size which is not a bad thing because the flat size of the iPhones look amazing the camera lenses do not protrude much which is an improvement compared to the s22 but still whether or not it wobbles if you use it on a desk remains to be seen Samsung will offer the phone in Black beige green and lilac color options there will be additional colors as well which will be exclusively offered on Samsung's website you don't have the official images of the s23 Plus or the s23 ultra but rest assured I'll keep you posted as soon as they become available so do consider subscribing for that and as always I'll see you tomorrow peace out\"}"
      ]
     },
     "execution_count": 24,
     "metadata": {},
     "output_type": "execute_result"
    }
   ],
   "source": [
    "videos2[100]"
   ]
  },
  {
   "cell_type": "code",
   "execution_count": 25,
   "id": "4169c12b-0b36-4450-bb94-4cf1d7f1b058",
   "metadata": {
    "tags": []
   },
   "outputs": [],
   "source": [
    "with open('videos_galaxy2.json', 'w', encoding='utf-8') as file:\n",
    "    json.dump(videos2, file, indent=\"\\t\")\n",
    "    \n",
    "with open('videos_galaxy2.json', 'r') as file:\n",
    "    data = json.load(file)"
   ]
  },
  {
   "cell_type": "code",
   "execution_count": 26,
   "id": "18234b69-3013-4fd6-a953-1ae5e43de5f0",
   "metadata": {
    "tags": []
   },
   "outputs": [
    {
     "data": {
      "text/plain": [
       "901"
      ]
     },
     "execution_count": 26,
     "metadata": {},
     "output_type": "execute_result"
    }
   ],
   "source": [
    "len(data)"
   ]
  },
  {
   "cell_type": "code",
   "execution_count": 28,
   "id": "227da1ed-cfdc-4ba1-a582-bf7e4a3163ac",
   "metadata": {
    "tags": []
   },
   "outputs": [
    {
     "data": {
      "text/plain": [
       "dict"
      ]
     },
     "execution_count": 28,
     "metadata": {},
     "output_type": "execute_result"
    }
   ],
   "source": [
    "type(data)"
   ]
  },
  {
   "cell_type": "code",
   "execution_count": 29,
   "id": "4dde9705-3623-4af0-9624-faadd7a09bef",
   "metadata": {
    "tags": []
   },
   "outputs": [
    {
     "data": {
      "text/plain": [
       "{'videoId': 'BSYsXVFzmKA',\n",
       " 'title': 'Galaxy S23 Ultra: Official Introduction Film | Samsung',\n",
       " 'description': \"What's new? The new Galaxy S23 Ultra. Share the epic with our most powerful processor yet, a pro-grade camera that boasts epic ...\",\n",
       " 'viewCount': '24328894',\n",
       " 'captions': \"hi! Nothing bad, right? what's the matter? braided!  Galaxy S23 Ultra. Good. This cannot be expressed simply as ‘good.’ First, the\\ndisplay color and contrast are automatically adjusted to match the content you are watching or the surrounding environment. It’s a function called ‘Vision Booster’. Oh really? Now, look! and…  ! Can you drive this? look!  Snapdragon 8 2nd generation for Galaxy! Let's increase GPU, CPU, and NPU. It has the most powerful processor in the Galaxy. Stop, stop, stop! and…  !  I can't stop! This processor is efficient and can keep going. for a moment…  Are we in the water now? fountain!  Concentrate!  The Galaxy S23 Ultra is a product that takes the earth into consideration.  It consists of at least 20% recycled ocean plastic, an average of 22% recycled glass and at least 80% recycled PET film. Is it cool? This\\nis the perfect space for astrophotography with Expert RAW. Expert…  what? wait for a sec! Oh, is that a cool pen? This is an S Pen.  It's a powerful pen, so you\\ncan fine-tune colors, curves, exposure, etc. Let's take a selfie. here?  now? huh.  There is nytography.  The AI \\u200b\\u200bobject recognition engine recognizes details such as skin, eyebrows, and\\nhair. Send me that picture! Thank you for sending it! Where's your sled?  I do not need.  It's more fun to photograph you with nightography!  The Galaxy S23 Ultra\\n features a twice-larger OIS and improved AI for more stable night photography.  Did you film it yourself? Look at the incredible detail at 200 megapixels!  I can stretch, crop, and resize it as I want\\n. Where are you taking me now? here! Absolutely amazing! Hey, everything's going well, right? You should check this out.\"}"
      ]
     },
     "execution_count": 29,
     "metadata": {},
     "output_type": "execute_result"
    }
   ],
   "source": [
    "data['0']"
   ]
  },
  {
   "cell_type": "code",
   "execution_count": 101,
   "id": "15c31812-7528-4736-b3e4-ef1c09b0ee2c",
   "metadata": {
    "tags": []
   },
   "outputs": [
    {
     "data": {
      "text/plain": [
       "648"
      ]
     },
     "execution_count": 101,
     "metadata": {},
     "output_type": "execute_result"
    }
   ],
   "source": [
    "len(videos2)"
   ]
  },
  {
   "cell_type": "code",
   "execution_count": 88,
   "id": "2abd33c3-f99f-4174-8a18-fc7756780cd1",
   "metadata": {
    "tags": []
   },
   "outputs": [],
   "source": [
    "import json\n",
    "with open('videos.json', 'w', encoding='utf-8') as file:\n",
    "    json.dump(videos, file, indent=\"\\t\")\n",
    "    \n",
    "with open('videos.json', 'r') as file:\n",
    "    data = json.load(file)"
   ]
  },
  {
   "cell_type": "code",
   "execution_count": 89,
   "id": "de9b6fee-25dd-438d-b9a9-6ae0e35fc3f6",
   "metadata": {
    "tags": []
   },
   "outputs": [
    {
     "data": {
      "text/plain": [
       "650"
      ]
     },
     "execution_count": 89,
     "metadata": {},
     "output_type": "execute_result"
    }
   ],
   "source": [
    "len(data)"
   ]
  },
  {
   "cell_type": "code",
   "execution_count": 31,
   "id": "edee2fe5-cc06-4103-ae58-724fbdb3b53f",
   "metadata": {
    "tags": []
   },
   "outputs": [],
   "source": [
    "videos = videos2"
   ]
  },
  {
   "cell_type": "code",
   "execution_count": 32,
   "id": "60ebffb2-cf38-4cfb-a1fa-57cf089eda6f",
   "metadata": {
    "tags": []
   },
   "outputs": [],
   "source": [
    "docs = [v.get('captions') for v in videos.values()]"
   ]
  },
  {
   "cell_type": "code",
   "execution_count": 33,
   "id": "c4040eb4-d37f-4b10-89c9-45abb6810af3",
   "metadata": {
    "tags": []
   },
   "outputs": [
    {
     "data": {
      "text/plain": [
       "901"
      ]
     },
     "execution_count": 33,
     "metadata": {},
     "output_type": "execute_result"
    }
   ],
   "source": [
    "len(docs)"
   ]
  },
  {
   "cell_type": "code",
   "execution_count": 34,
   "id": "19351368-3193-4a12-8f89-a119d37e3c21",
   "metadata": {
    "tags": []
   },
   "outputs": [
    {
     "data": {
      "text/plain": [
       "901"
      ]
     },
     "execution_count": 34,
     "metadata": {},
     "output_type": "execute_result"
    }
   ],
   "source": [
    "docs = [d for d in docs if d]\n",
    "len(docs)"
   ]
  },
  {
   "cell_type": "code",
   "execution_count": 35,
   "id": "58b331d3-850e-4e9d-b08f-62e3acc4ddc3",
   "metadata": {
    "tags": []
   },
   "outputs": [
    {
     "data": {
      "application/vnd.jupyter.widget-view+json": {
       "model_id": "98a258b691514fa195d0b3f756d1390e",
       "version_major": 2,
       "version_minor": 0
      },
      "text/plain": [
       "Downloading (…)e9125/.gitattributes:   0%|          | 0.00/1.18k [00:00<?, ?B/s]"
      ]
     },
     "metadata": {},
     "output_type": "display_data"
    },
    {
     "data": {
      "application/vnd.jupyter.widget-view+json": {
       "model_id": "35e0bceb30bc40d59099cf95f24808f0",
       "version_major": 2,
       "version_minor": 0
      },
      "text/plain": [
       "Downloading (…)_Pooling/config.json:   0%|          | 0.00/190 [00:00<?, ?B/s]"
      ]
     },
     "metadata": {},
     "output_type": "display_data"
    },
    {
     "data": {
      "application/vnd.jupyter.widget-view+json": {
       "model_id": "278da681a8ca45c3bdfe1d5ff65c08d6",
       "version_major": 2,
       "version_minor": 0
      },
      "text/plain": [
       "Downloading (…)7e55de9125/README.md:   0%|          | 0.00/10.6k [00:00<?, ?B/s]"
      ]
     },
     "metadata": {},
     "output_type": "display_data"
    },
    {
     "data": {
      "application/vnd.jupyter.widget-view+json": {
       "model_id": "8df411ec7538494d98768ee5b79568d7",
       "version_major": 2,
       "version_minor": 0
      },
      "text/plain": [
       "Downloading (…)55de9125/config.json:   0%|          | 0.00/612 [00:00<?, ?B/s]"
      ]
     },
     "metadata": {},
     "output_type": "display_data"
    },
    {
     "data": {
      "application/vnd.jupyter.widget-view+json": {
       "model_id": "575938e6073b4fd9a54317305cea1447",
       "version_major": 2,
       "version_minor": 0
      },
      "text/plain": [
       "Downloading (…)ce_transformers.json:   0%|          | 0.00/116 [00:00<?, ?B/s]"
      ]
     },
     "metadata": {},
     "output_type": "display_data"
    },
    {
     "data": {
      "application/vnd.jupyter.widget-view+json": {
       "model_id": "17a9556eaa9d411892b914f16017f1d4",
       "version_major": 2,
       "version_minor": 0
      },
      "text/plain": [
       "Downloading (…)125/data_config.json:   0%|          | 0.00/39.3k [00:00<?, ?B/s]"
      ]
     },
     "metadata": {},
     "output_type": "display_data"
    },
    {
     "data": {
      "application/vnd.jupyter.widget-view+json": {
       "model_id": "ab5a203e63ac4d7ea001d5009fb0abec",
       "version_major": 2,
       "version_minor": 0
      },
      "text/plain": [
       "Downloading pytorch_model.bin:   0%|          | 0.00/90.9M [00:00<?, ?B/s]"
      ]
     },
     "metadata": {},
     "output_type": "display_data"
    },
    {
     "data": {
      "application/vnd.jupyter.widget-view+json": {
       "model_id": "de5e1c9c365f422197f9c1dd1086bd3f",
       "version_major": 2,
       "version_minor": 0
      },
      "text/plain": [
       "Downloading (…)nce_bert_config.json:   0%|          | 0.00/53.0 [00:00<?, ?B/s]"
      ]
     },
     "metadata": {},
     "output_type": "display_data"
    },
    {
     "data": {
      "application/vnd.jupyter.widget-view+json": {
       "model_id": "f285386e3fa2475cb8ea6171852487ca",
       "version_major": 2,
       "version_minor": 0
      },
      "text/plain": [
       "Downloading (…)cial_tokens_map.json:   0%|          | 0.00/112 [00:00<?, ?B/s]"
      ]
     },
     "metadata": {},
     "output_type": "display_data"
    },
    {
     "data": {
      "application/vnd.jupyter.widget-view+json": {
       "model_id": "2534ee5d12824b868249729a46b09b6a",
       "version_major": 2,
       "version_minor": 0
      },
      "text/plain": [
       "Downloading (…)e9125/tokenizer.json:   0%|          | 0.00/466k [00:00<?, ?B/s]"
      ]
     },
     "metadata": {},
     "output_type": "display_data"
    },
    {
     "data": {
      "application/vnd.jupyter.widget-view+json": {
       "model_id": "346a6cfefb6d4211a1da1eb05da37432",
       "version_major": 2,
       "version_minor": 0
      },
      "text/plain": [
       "Downloading (…)okenizer_config.json:   0%|          | 0.00/350 [00:00<?, ?B/s]"
      ]
     },
     "metadata": {},
     "output_type": "display_data"
    },
    {
     "data": {
      "application/vnd.jupyter.widget-view+json": {
       "model_id": "9938110d97ff4edfa6e8910c010a4b56",
       "version_major": 2,
       "version_minor": 0
      },
      "text/plain": [
       "Downloading (…)9125/train_script.py:   0%|          | 0.00/13.2k [00:00<?, ?B/s]"
      ]
     },
     "metadata": {},
     "output_type": "display_data"
    },
    {
     "data": {
      "application/vnd.jupyter.widget-view+json": {
       "model_id": "0cf79179cd7f4e8a881c8aa215fc1cc6",
       "version_major": 2,
       "version_minor": 0
      },
      "text/plain": [
       "Downloading (…)7e55de9125/vocab.txt:   0%|          | 0.00/232k [00:00<?, ?B/s]"
      ]
     },
     "metadata": {},
     "output_type": "display_data"
    },
    {
     "data": {
      "application/vnd.jupyter.widget-view+json": {
       "model_id": "aef8f263c371422b8fd4ded3119570fa",
       "version_major": 2,
       "version_minor": 0
      },
      "text/plain": [
       "Downloading (…)5de9125/modules.json:   0%|          | 0.00/349 [00:00<?, ?B/s]"
      ]
     },
     "metadata": {},
     "output_type": "display_data"
    }
   ],
   "source": [
    "vectorizer_model = CountVectorizer(stop_words=stopwords.words('english') + ['samsung', 'galaxy', 's23', 'phone'])\n",
    "topic_model = BERTopic(vectorizer_model=vectorizer_model)\n",
    "topics, probs = topic_model.fit_transform(docs)"
   ]
  },
  {
   "cell_type": "code",
   "execution_count": 36,
   "id": "4308a29e-8f69-4098-82fc-c9b715648ce9",
   "metadata": {
    "tags": []
   },
   "outputs": [
    {
     "data": {
      "text/html": [
       "<div>\n",
       "<style scoped>\n",
       "    .dataframe tbody tr th:only-of-type {\n",
       "        vertical-align: middle;\n",
       "    }\n",
       "\n",
       "    .dataframe tbody tr th {\n",
       "        vertical-align: top;\n",
       "    }\n",
       "\n",
       "    .dataframe thead th {\n",
       "        text-align: right;\n",
       "    }\n",
       "</style>\n",
       "<table border=\"1\" class=\"dataframe\">\n",
       "  <thead>\n",
       "    <tr style=\"text-align: right;\">\n",
       "      <th></th>\n",
       "      <th>Topic</th>\n",
       "      <th>Count</th>\n",
       "      <th>Name</th>\n",
       "      <th>Representation</th>\n",
       "      <th>Representative_Docs</th>\n",
       "    </tr>\n",
       "  </thead>\n",
       "  <tbody>\n",
       "    <tr>\n",
       "      <th>0</th>\n",
       "      <td>-1</td>\n",
       "      <td>12</td>\n",
       "      <td>-1_city_citys_pixel_new</td>\n",
       "      <td>[city, citys, pixel, new, york, google, milan,...</td>\n",
       "      <td>[welcome to Bree's Odyssey Channel and our cit...</td>\n",
       "    </tr>\n",
       "    <tr>\n",
       "      <th>1</th>\n",
       "      <td>0</td>\n",
       "      <td>798</td>\n",
       "      <td>0_ultra_camera_also_like</td>\n",
       "      <td>[ultra, camera, also, like, one, see, iphone, ...</td>\n",
       "      <td>[Guys, today we're going to do a boxing of the...</td>\n",
       "    </tr>\n",
       "    <tr>\n",
       "      <th>2</th>\n",
       "      <td>1</td>\n",
       "      <td>59</td>\n",
       "      <td>1_tap_screen_want_go</td>\n",
       "      <td>[tap, screen, want, go, button, see, use, pen,...</td>\n",
       "      <td>[I reviewed the Galaxy S23 Ultra last time, bu...</td>\n",
       "    </tr>\n",
       "    <tr>\n",
       "      <th>3</th>\n",
       "      <td>2</td>\n",
       "      <td>32</td>\n",
       "      <td>2_music_foreign_thank_applause</td>\n",
       "      <td>[music, foreign, thank, applause, chandra, bos...</td>\n",
       "      <td>[foreign [Music] [Music], foreign [Music] [Mus...</td>\n",
       "    </tr>\n",
       "  </tbody>\n",
       "</table>\n",
       "</div>"
      ],
      "text/plain": [
       "   Topic  Count                            Name  \\\n",
       "0     -1     12         -1_city_citys_pixel_new   \n",
       "1      0    798        0_ultra_camera_also_like   \n",
       "2      1     59            1_tap_screen_want_go   \n",
       "3      2     32  2_music_foreign_thank_applause   \n",
       "\n",
       "                                      Representation  \\\n",
       "0  [city, citys, pixel, new, york, google, milan,...   \n",
       "1  [ultra, camera, also, like, one, see, iphone, ...   \n",
       "2  [tap, screen, want, go, button, see, use, pen,...   \n",
       "3  [music, foreign, thank, applause, chandra, bos...   \n",
       "\n",
       "                                 Representative_Docs  \n",
       "0  [welcome to Bree's Odyssey Channel and our cit...  \n",
       "1  [Guys, today we're going to do a boxing of the...  \n",
       "2  [I reviewed the Galaxy S23 Ultra last time, bu...  \n",
       "3  [foreign [Music] [Music], foreign [Music] [Mus...  "
      ]
     },
     "execution_count": 36,
     "metadata": {},
     "output_type": "execute_result"
    }
   ],
   "source": [
    "topic_model.get_topic_info()"
   ]
  }
 ],
 "metadata": {
  "kernelspec": {
   "display_name": "Python 3 (ipykernel)",
   "language": "python",
   "name": "python3"
  },
  "language_info": {
   "codemirror_mode": {
    "name": "ipython",
    "version": 3
   },
   "file_extension": ".py",
   "mimetype": "text/x-python",
   "name": "python",
   "nbconvert_exporter": "python",
   "pygments_lexer": "ipython3",
   "version": "3.9.0"
  }
 },
 "nbformat": 4,
 "nbformat_minor": 5
}
